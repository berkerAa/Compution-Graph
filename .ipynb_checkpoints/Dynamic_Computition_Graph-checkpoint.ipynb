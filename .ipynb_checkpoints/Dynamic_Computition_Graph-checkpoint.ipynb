{
 "cells": [
  {
   "cell_type": "markdown",
   "metadata": {},
   "source": [
    "                    CMPE 232 TERM PROJECT \n",
    "    PROJECT GROUP : A\n",
    "    GROUP MEMBERS:\n",
    "            Erol YIGITALP 1162000\n",
    "            Baris AREM\n",
    "            Berker ARSLAN 117200033"
   ]
  },
  {
   "cell_type": "markdown",
   "metadata": {},
   "source": [
    "<a href='#Operation Classes'>Operation Classes:                                                  </a>\n",
    "\n",
    "\n",
    "\n"
   ]
  },
  {
   "cell_type": "markdown",
   "metadata": {},
   "source": [
    "<a href='#section2'>Graph Creation                                                               </a>"
   ]
  },
  {
   "cell_type": "markdown",
   "metadata": {},
   "source": [
    "<a href='#section3'>Basic String to function converter                                           </a>"
   ]
  },
  {
   "cell_type": "markdown",
   "metadata": {},
   "source": [
    "<a href='#section4'>Forward and Bacward sessions                                                 </a>"
   ]
  },
  {
   "cell_type": "markdown",
   "metadata": {},
   "source": [
    "<a href='#section5'>Draw Manager for latest outputs                                              </a>"
   ]
  },
  {
   "cell_type": "markdown",
   "metadata": {},
   "source": [
    "<a href='#section6'>Varaible declerations, Starting operations and Drawing initial function graph</a>"
   ]
  },
  {
   "cell_type": "markdown",
   "metadata": {},
   "source": [
    "<a href='#section7'>Drawing Forward session                                                       </a>"
   ]
  },
  {
   "cell_type": "markdown",
   "metadata": {},
   "source": [
    "<a href='#section8'>Drawing Bacward Session                                                       </a>"
   ]
  },
  {
   "cell_type": "markdown",
   "metadata": {},
   "source": [
    "<a href='#section9'>Function outputs for each node                                                 </a>\n",
    "<a href='#section10'>Reverse Topologic Order'</a>\n",
    "<a href='#section11'>Derivatives for each node'</a>\n",
    "<a href='#section12'>Bacward session List'</a>\n"
   ]
  },
  {
   "cell_type": "code",
   "execution_count": 1,
   "metadata": {},
   "outputs": [],
   "source": [
    "import numpy as np\n",
    "import pandas as pd \n",
    "import networkx as nx\n",
    "import matplotlib.pyplot as plt\n",
    "from sympy import symbols, diff\n",
    "%matplotlib inline"
   ]
  },
  {
   "cell_type": "markdown",
   "metadata": {},
   "source": [
    "<a id='Operation Classes'></a>"
   ]
  },
  {
   "cell_type": "code",
   "execution_count": 2,
   "metadata": {},
   "outputs": [],
   "source": [
    "class Multi:\n",
    "    def __init__(self,X,Y):\n",
    "        self.x = X\n",
    "        self.y = Y\n",
    "        self.neighboors = []\n",
    "        self.name = None\n",
    "        self.val = None\n",
    "        self.der = None\n",
    "        self.s = str(self.x.name) + '*' + str(self.y.name)\n",
    "        self.nameG()\n",
    "    def calc(self):\n",
    "        self.val = self.x.val * self.y.val\n",
    "    def derivative(self,X,Y):\n",
    "        if Y == self.x:\n",
    "            self.der = ((self.x.val+X) * self.y.val - self.val)/X\n",
    "        else:\n",
    "            self.der = (self.x.val * (self.y.val+X) - self.val)/X\n",
    "    def nameG(self):\n",
    "        self.name = str(self.x.name) + '*' + str(self.y.name)\n",
    "class Sub:\n",
    "    def __init__(self,X,Y):\n",
    "        self.x = X\n",
    "        self.y = Y\n",
    "        self.neighboors = []\n",
    "        self.name = None\n",
    "        self.val = None\n",
    "        self.s = str(self.x.name) + '-' + str(self.y.name)\n",
    "        self.der = None\n",
    "        self.nameG()\n",
    "    def calc(self):\n",
    "        self.val = self.x.val - self.y.val\n",
    "    def derivative(self,X,Y):\n",
    "        if Y == self.x:\n",
    "            self.der = ((self.x.val+X) - self.y.val - self.val)/X\n",
    "        else:\n",
    "            self.der = (self.x.val - (self.y.val+X) - self.val)/X\n",
    "    def nameG(self):\n",
    "        self.name = str(self.x.name) + '-' + str(self.y.name)\n",
    "class Div:\n",
    "    def __init__(self,X,Y):\n",
    "        self.x = X\n",
    "        self.y = Y\n",
    "        self.neighboors = []\n",
    "        self.name = None\n",
    "        self.val = None\n",
    "        self.s = str(self.x.name) + '/' + str(self.y.name)\n",
    "        self.der = None\n",
    "        self.nameG()\n",
    "    def calc(self):\n",
    "        self.val = self.x.val / self.y.val\n",
    "    def derivative(self,X,Y):\n",
    "        if Y == self.x:\n",
    "            self.der = ((self.x.val+X) / self.y.val - self.val)/X\n",
    "        else:\n",
    "            self.der = (self.x.val / (self.y.val+X) - self.val)/X\n",
    "    def nameG(self):\n",
    "        self.name = str(self.x.name) + '/' + str(self.y.name)\n",
    "class Add:\n",
    "    def __init__(self,X,Y):\n",
    "        self.x = X\n",
    "        self.y = Y\n",
    "        self.neighboors = [] \n",
    "        self.name = None\n",
    "        self.val = None\n",
    "        self.s = str(self.x.name) + '+' + str(self.y.name)\n",
    "        self.der = None\n",
    "        self.nameG()\n",
    "    def calc(self):\n",
    "        self.val = self.x.val + self.y.val\n",
    "    def derivative(self,X,Y):\n",
    "        if Y == self.x:\n",
    "            self.der = ((self.x.val+X) + self.y.val - self.val)/X\n",
    "        else:\n",
    "            self.der = (self.x.val + (self.y.val+X) - self.val)/X\n",
    "    def nameG(self):\n",
    "        self.name = str(self.x.name) + '+' + str(self.y.name)\n",
    "class PlaceHolder:\n",
    "    def __init__(self,X):\n",
    "        self.neighboors = []\n",
    "        self.name = str(X)\n",
    "        self.val = None\n",
    "        self.nodeName = str(X)\n",
    "        self.der = None\n",
    "        self.nameG()\n",
    "    def nameG(self):\n",
    "        self.name = self.name\n",
    "    def val(self,X):\n",
    "        self.val = X\n",
    "    def derivative(self,X):\n",
    "        self.neighboors[0].derivative(1,X)\n",
    "        self.der = self.neighboors[0].der\n",
    "    def appendN(self,Y):\n",
    "        self.neighboors.append(Y)"
   ]
  },
  {
   "cell_type": "markdown",
   "metadata": {},
   "source": [
    "<a id='section2'></a>"
   ]
  },
  {
   "cell_type": "code",
   "execution_count": 3,
   "metadata": {},
   "outputs": [],
   "source": [
    "class Graph :\n",
    "    def __init__(self):\n",
    "        self.varFirst = []\n",
    "        self.varSecond = []\n",
    "        self.op = []\n",
    "        self.weights =[]\n",
    "        self.neig={}\n",
    "        self.data = []\n",
    "        self.graph = []\n",
    "        self.drawM = []\n",
    "        self.lastOp = None\n",
    "        self.G=None\n",
    "    def addOperation(self,X,Y,operation):\n",
    "        self.obj = PlaceHolder(X)\n",
    "        self.Input = PlaceHolder(Y)\n",
    "        self.oper=eval(operation)(self.obj,self.Input)\n",
    "        self.op.append(self.oper)\n",
    "        self.data.append({'First Variable' : self.obj.name ,'Second Variable' :self.Input.name, 'Operation':operation})\n",
    "        self.connections(self.obj,self.Input,self.oper)\n",
    "        #self.createFrame()\n",
    "    def combineOperation(self,opIndex,X,operation):\n",
    "        self.obj = self.op[opIndex]\n",
    "        self.Input = PlaceHolder(X)\n",
    "        self.oper=eval(operation)(self.obj,self.Input)\n",
    "        self.op.append(self.oper)\n",
    "        self.data.append({'First Variable' : self.obj.name ,'Second Variable' :self.Input.name, 'Operation':operation})\n",
    "        self.connections(self.obj,self.Input,self.oper)\n",
    "    def combineFull(self,opIndex,X,operation):\n",
    "        self.obj = self.op[opIndex]\n",
    "        self.Input = self.op[X]\n",
    "        self.oper=eval(operation)(self.op[opIndex],self.op[X])\n",
    "        self.op.append(self.oper)\n",
    "        self.data.append({'First Variable' : self.obj.name ,'Second Variable' :self.Input.name, 'Operation':operation})\n",
    "        self.connections(self.obj,self.Input,self.oper)\n",
    "    def connections(self,X,Y,Z):\n",
    "        self.graph.append([X,Z,0])\n",
    "        self.graph.append([Y,Z,0])\n",
    "        self.drawM.append([X.name,Z.name,0])\n",
    "        self.drawM.append([Y.name,Z.name,0])\n",
    "        self.lastOp = Z\n",
    "    def neighboor(self):\n",
    "        for s,t,w in self.graph:\n",
    "            s.neighboors.append(t)\n",
    "        for s,t,w in self.graph:\n",
    "            self.neig.update({s:s.neighboors})\n",
    "    def draw(self, color = 'lightblue'):\n",
    "        \"\"\"\n",
    "            Usage of networkx for visualisation\n",
    "        \"\"\"\n",
    "        \n",
    "        self.graph.append([self.graph[-1][1],PlaceHolder(0),0])\n",
    "        self.graph[-1][-2].val = 0\n",
    "        self.drawM.append([self.drawM[-1][1],0,0])\n",
    "        self.G = nx.DiGraph()\n",
    "        self.G.add_weighted_edges_from(self.drawM)\n",
    "        plt.figure(figsize=(10,5))\n",
    "       \n",
    "        pos = nx.spring_layout(self.G)  # positions for all nodes\n",
    "        nx.draw(self.G, pos, node_size=900, node_color=color, font_size=10, with_labels=True)\n",
    "        nx.draw_networkx_edge_labels(self.G, pos, font_size=10,  edge_labels = nx.get_edge_attributes(self.G,'weight'))"
   ]
  },
  {
   "cell_type": "markdown",
   "metadata": {},
   "source": [
    "<a id='section3'></a>"
   ]
  },
  {
   "cell_type": "code",
   "execution_count": 4,
   "metadata": {},
   "outputs": [],
   "source": [
    "class BasicC:\n",
    "    def __init__(self, string):\n",
    "        self.G = Graph()\n",
    "        self.count = 0\n",
    "        self.z = []\n",
    "        self.memo = []\n",
    "        self.s = string\n",
    "        self.se =''.join(self.s.split())\n",
    "        self.space =' '.join(self.se)\n",
    "        self.space = self.space.replace(')', '')\n",
    "        self.space = self.space.split('(')\n",
    "        self.final = []\n",
    "        self.process()\n",
    "        self.reversed = self.final[::-1]\n",
    "        print(self.reversed)\n",
    "        self.framize(True)\n",
    "        self.G.draw()\n",
    "        self.G.neighboor()\n",
    "    def framize(self,boolean):\n",
    "        try:\n",
    "            if boolean and len(self.reversed[self.count])>=3:\n",
    "                self.G.addOperation(self.reversed[self.count][0],self.reversed[self.count][2],self.reversed[self.count][1])\n",
    "                self.z.append(self.reversed[self.count][:3])\n",
    "                self.reversed[self.count] = self.reversed[self.count][3:]\n",
    "                print(len(self.reversed))\n",
    "                self.framize(False)\n",
    "            elif (not(self.reversed[self.count] == []) and (len(self.reversed[self.count])>1)):\n",
    "                self.G.combineOperation(len(self.G.op)-1,self.reversed[self.count][1],self.reversed[self.count][0])\n",
    "                self.z.append([self.z[-1] , self.reversed[self.count][0],self.reversed[self.count][1]])\n",
    "                self.reversed[self.count] = self.reversed[self.count][2:]\n",
    "                self.framize(False)\n",
    "            elif len(self.reversed[self.count])==1:\n",
    "                self.G.combineFull(len(self.G.op)-1,self.memo,self.reversed[self.count][0])\n",
    "                self.z.append([self.z[-1] , self.reversed[self.count][0],self.memo])\n",
    "                self.reversed[self.count] = []\n",
    "                self.framize(False)\n",
    "            else:\n",
    "                self.count+=1\n",
    "                self.memo = len(self.G.op)-1\n",
    "                self.framize(True)\n",
    "        except:\n",
    "            print('Finish')\n",
    "    def process(self):\n",
    "        for z in self.space:\n",
    "            self.final.append([])\n",
    "            for i in z:\n",
    "                if not(i == ' '):\n",
    "                    self.final[-1].append(self.helper(''.join(i.split())))\n",
    "    def helper(self,phase):\n",
    "        self.phase = phase.translate(str.maketrans({'*': 'Multi', '+': 'Add', '/' : 'Div', '-' : 'Sub'}))\n",
    "        return self.phase\n",
    "        "
   ]
  },
  {
   "cell_type": "markdown",
   "metadata": {},
   "source": [
    "<a id='section4'></a>"
   ]
  },
  {
   "cell_type": "code",
   "execution_count": 5,
   "metadata": {},
   "outputs": [],
   "source": [
    "class ForwardProp:\n",
    "    def __init__(self,var,gr):\n",
    "        self.var = var\n",
    "        self.index = [s for s,w in self.var]\n",
    "        self.g = gr\n",
    "        self.values = []\n",
    "        self.G = nx.DiGraph()\n",
    "        self.G.add_weighted_edges_from(self.g.G.graph)\n",
    "        self.Topologic = None\n",
    "        self.RTopologic = None\n",
    "        self.Topologic_Order()\n",
    "        \n",
    "    def Topologic_Order(self):\n",
    "        self.Topologic =list(nx.topological_sort(self.G))\n",
    "        self.RTopologic =list(reversed(list(nx.topological_sort(self.G))))\n",
    "    def RTopologic_Order(self):\n",
    "        self.RTopologic =list(reversed(list(nx.topological_sort(self.G))))\n",
    "    def addVars(self):\n",
    "        for i in self.Topologic:\n",
    "            try:\n",
    "                string = type(i).__name__\n",
    "                if string == 'PlaceHolder':\n",
    "                    i.name = self.var[self.index.index(i.name)][1]\n",
    "                    i.val = float(i.name)\n",
    "                    print(i.val)\n",
    "                else:\n",
    "                    i.nameG()\n",
    "                    print(i.name)\n",
    "            except:\n",
    "                print(i.name)\n",
    "    def BackwardSess(self):\n",
    "        self.values = np.array(list(reversed(list(self.values[:-1]))),dtype=float)\n",
    "        self.gradiants = self.values\n",
    "        for i in self.RTopologic[1:]:\n",
    "            if not (str(type(i).__name__) == 'PlaceHolder'):\n",
    "                self.last, self.gradiants = self.gradiants[0], self.gradiants[1:]\n",
    "                i.derivative(1,self.RTopologic[self.RTopologic.index(i)+1])\n",
    "                self.g.G.weights.append(i.der)\n",
    "                print(i.der)\n",
    "            else:\n",
    "                self.last, self.gradiants = self.gradiants[0], self.gradiants[1:]\n",
    "                i.derivative(i)\n",
    "                self.g.G.weights.append(i.der)\n",
    "                print(i.der)\n",
    "            \n",
    "    def Forwardsess(self):\n",
    "        self.addVars()\n",
    "        for i in self.Topologic:\n",
    "            try:\n",
    "                string = type(i).__name__\n",
    "                if string == 'PlaceHolder':\n",
    "                    if i.val == None:\n",
    "                        print('name = ' + i.name)\n",
    "                    else:\n",
    "                        self.values.append(i.val)\n",
    "                else:\n",
    "                    i.calc()\n",
    "                    print(i.val)\n",
    "                    self.values.append(i.val)\n",
    "            except:\n",
    "                print(i.x)\n",
    "        self.Topologic[-1].val = self.Topologic[-2].val\n",
    "        self.values.append(self.values[-1])\n",
    "        self.RTopologic_Order()\n",
    "    def info(self):\n",
    "        self.prM = self.Topologic[:-1]\n",
    "        return {i.name:i.neighboors for i in self.prM}"
   ]
  },
  {
   "cell_type": "markdown",
   "metadata": {},
   "source": [
    "<a id='section5'></a>"
   ]
  },
  {
   "cell_type": "code",
   "execution_count": 6,
   "metadata": {},
   "outputs": [],
   "source": [
    "def draw(drawG, color = 'lightblue'):\n",
    "        \"\"\"\n",
    "            Usage of networkx for visualisation\n",
    "        \"\"\"\n",
    "        G = nx.DiGraph()\n",
    "        G.add_weighted_edges_from(drawG)\n",
    "        plt.figure(figsize=(10,5))\n",
    "       \n",
    "        pos = nx.spring_layout(G)  # positions for all nodes\n",
    "        nx.draw(G, pos, node_size=900, node_color=color, font_size=10, with_labels=True)\n",
    "        nx.draw_networkx_edge_labels(G, pos, font_size=10,  edge_labels = nx.get_edge_attributes(G,'weight'))"
   ]
  },
  {
   "cell_type": "markdown",
   "metadata": {},
   "source": [
    "<a id='section6'></a>"
   ]
  },
  {
   "cell_type": "code",
   "execution_count": 7,
   "metadata": {},
   "outputs": [
    {
     "name": "stdout",
     "output_type": "stream",
     "text": [
      "[['x', 'Div', 'y', 'Add', 'z'], ['a', 'Multi', 'b', 'Multi']]\n",
      "2\n",
      "2\n",
      "Finish\n",
      "5.0\n",
      "4.0\n",
      "4*5\n",
      "10.0\n",
      "9.0\n",
      "8.0\n",
      "8/9\n",
      "8/9+10\n",
      "4*5*8/9+10\n",
      "0\n",
      "20.0\n",
      "0.8888888888888888\n",
      "10.88888888888889\n",
      "217.77777777777777\n",
      "20.0\n",
      "1.0\n",
      "0.11111111111111116\n",
      "0.11111111111111116\n",
      "-0.0888888888888888\n",
      "1.0\n",
      "5.0\n",
      "5.0\n",
      "4.0\n"
     ]
    },
    {
     "data": {
      "image/png": "[encoded data removed]",
      "text/plain": [
       "<Figure size 720x360 with 1 Axes>"
      ]
     },
     "metadata": {},
     "output_type": "display_data"
    }
   ],
   "source": [
    "frame = BasicC('a*b*(x/y+z)')\n",
    "liste = [['a',4],['b',5],['x',8],['y',9],['z',10]]\n",
    "g = ForwardProp(liste,frame)\n",
    "g.Forwardsess()\n",
    "frame.G.neig\n",
    "g.info()\n",
    "grap = g.Topologic[:-1]\n",
    "g.BackwardSess()\n",
    "x =[[round(i.val,2),round(i.neighboors[0].val,2),round(i.val,2)] for i in grap]\n",
    "\n",
    "y =[[round(i.neighboors[0].val,2),round(i.val,2)] for i in g.RTopologic[1:]]\n",
    "for i in range(len(y)):\n",
    "    y[i].append(round(g.g.G.weights[i],2))\n"
   ]
  },
  {
   "cell_type": "markdown",
   "metadata": {},
   "source": [
    "<a id='section7'></a>"
   ]
  },
  {
   "cell_type": "code",
   "execution_count": 8,
   "metadata": {},
   "outputs": [
    {
     "data": {
      "image/png": "[encoded data removed]",
      "text/plain": [
       "<Figure size 720x360 with 1 Axes>"
      ]
     },
     "metadata": {},
     "output_type": "display_data"
    }
   ],
   "source": [
    "draw(x)"
   ]
  },
  {
   "cell_type": "markdown",
   "metadata": {},
   "source": [
    "<a id='section8'></a>"
   ]
  },
  {
   "cell_type": "code",
   "execution_count": 9,
   "metadata": {},
   "outputs": [
    {
     "data": {
      "image/png": "[encoded data removed]",
      "text/plain": [
       "<Figure size 720x360 with 1 Axes>"
      ]
     },
     "metadata": {},
     "output_type": "display_data"
    }
   ],
   "source": [
    "draw(y)"
   ]
  },
  {
   "cell_type": "markdown",
   "metadata": {},
   "source": [
    "<a id='section9'></a>"
   ]
  },
  {
   "cell_type": "code",
   "execution_count": 10,
   "metadata": {},
   "outputs": [
    {
     "data": {
      "text/plain": [
       "array([217.77777778,  10.88888889,   0.88888889,   8.        ,\n",
       "         9.        ,  10.        ,  20.        ,   4.        ,\n",
       "         5.        ])"
      ]
     },
     "execution_count": 10,
     "metadata": {},
     "output_type": "execute_result"
    }
   ],
   "source": [
    "g.values[1:]"
   ]
  },
  {
   "cell_type": "markdown",
   "metadata": {},
   "source": [
    "<a id='section10'></a>"
   ]
  },
  {
   "cell_type": "code",
   "execution_count": 11,
   "metadata": {},
   "outputs": [
    {
     "data": {
      "text/plain": [
       "[<__main__.PlaceHolder at 0x7f4d949a8a90>,\n",
       " <__main__.Multi at 0x7f4d949a8dd8>,\n",
       " <__main__.Add at 0x7f4d949e76a0>,\n",
       " <__main__.Div at 0x7f4d949e7470>,\n",
       " <__main__.PlaceHolder at 0x7f4d949e7828>,\n",
       " <__main__.PlaceHolder at 0x7f4d949e7780>,\n",
       " <__main__.PlaceHolder at 0x7f4d949e75f8>,\n",
       " <__main__.Multi at 0x7f4d949a8e48>,\n",
       " <__main__.PlaceHolder at 0x7f4d949e7630>,\n",
       " <__main__.PlaceHolder at 0x7f4d949e74e0>]"
      ]
     },
     "execution_count": 11,
     "metadata": {},
     "output_type": "execute_result"
    }
   ],
   "source": [
    "g.RTopologic"
   ]
  },
  {
   "cell_type": "markdown",
   "metadata": {},
   "source": [
    "<a id='section11'></a>"
   ]
  },
  {
   "cell_type": "code",
   "execution_count": 12,
   "metadata": {},
   "outputs": [
    {
     "data": {
      "text/plain": [
       "[20.0,\n",
       " 1.0,\n",
       " 0.11111111111111116,\n",
       " 0.11111111111111116,\n",
       " -0.0888888888888888,\n",
       " 1.0,\n",
       " 5.0,\n",
       " 5.0,\n",
       " 4.0]"
      ]
     },
     "execution_count": 12,
     "metadata": {},
     "output_type": "execute_result"
    }
   ],
   "source": [
    "g.g.G.weights"
   ]
  },
  {
   "cell_type": "markdown",
   "metadata": {},
   "source": [
    "<a id='section12'></a>"
   ]
  },
  {
   "cell_type": "code",
   "execution_count": 13,
   "metadata": {},
   "outputs": [
    {
     "data": {
      "text/plain": [
       "[[217.78, 217.78, 20.0],\n",
       " [217.78, 10.89, 1.0],\n",
       " [10.89, 0.89, 0.11],\n",
       " [0.89, 8.0, 0.11],\n",
       " [0.89, 9.0, -0.09],\n",
       " [10.89, 10.0, 1.0],\n",
       " [217.78, 20.0, 5.0],\n",
       " [20.0, 4.0, 5.0],\n",
       " [20.0, 5.0, 4.0]]"
      ]
     },
     "execution_count": 13,
     "metadata": {},
     "output_type": "execute_result"
    }
   ],
   "source": [
    "y"
   ]
  },
  {
   "cell_type": "code",
   "execution_count": null,
   "metadata": {},
   "outputs": [],
   "source": []
  }
 ],
 "metadata": {
  "kernelspec": {
   "display_name": "Python 3",
   "language": "python",
   "name": "python3"
  },
  "language_info": {
   "codemirror_mode": {
    "name": "ipython",
    "version": 3
   },
   "file_extension": ".py",
   "mimetype": "text/x-python",
   "name": "python",
   "nbconvert_exporter": "python",
   "pygments_lexer": "ipython3",
   "version": "3.6.8"
  }
 },
 "nbformat": 4,
 "nbformat_minor": 2
}
